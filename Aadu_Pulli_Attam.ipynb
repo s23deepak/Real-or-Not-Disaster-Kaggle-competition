{
  "nbformat": 4,
  "nbformat_minor": 0,
  "metadata": {
    "colab": {
      "name": "Aadu-Pulli-Attam.ipynb",
      "provenance": [],
      "authorship_tag": "ABX9TyOpOB5nWntSPhnEJj3yYCFZ",
      "include_colab_link": true
    },
    "kernelspec": {
      "name": "python3",
      "display_name": "Python 3"
    }
  },
  "cells": [
    {
      "cell_type": "markdown",
      "metadata": {
        "id": "view-in-github",
        "colab_type": "text"
      },
      "source": [
        "<a href=\"https://colab.research.google.com/github/s23deepak/Real-or-Not-Disaster-Kaggle-competition/blob/master/Aadu_Pulli_Attam.ipynb\" target=\"_parent\"><img src=\"https://colab.research.google.com/assets/colab-badge.svg\" alt=\"Open In Colab\"/></a>"
      ]
    },
    {
      "cell_type": "code",
      "metadata": {
        "id": "LAZ6Py58z1gF",
        "colab_type": "code",
        "colab": {}
      },
      "source": [
        "#Hatake Kakashi"
      ],
      "execution_count": 0,
      "outputs": []
    },
    {
      "cell_type": "code",
      "metadata": {
        "id": "US122255PRvd",
        "colab_type": "code",
        "colab": {}
      },
      "source": [
        "import numpy as np\n",
        "import matplotlib.pyplot as plt\n",
        "from matplotlib.animation import FuncAnimation"
      ],
      "execution_count": 0,
      "outputs": []
    },
    {
      "cell_type": "markdown",
      "metadata": {
        "id": "wRaeIfCeM0SX",
        "colab_type": "text"
      },
      "source": [
        "<h6><b>Board</b></h6>"
      ]
    },
    {
      "cell_type": "code",
      "metadata": {
        "id": "fYUMzmOhPeHf",
        "colab_type": "code",
        "colab": {}
      },
      "source": [
        "Board_points = [\n",
        "                 [(0,0),   (0,0),   (0,0),   (0,0),    (0,0),    (0,0),   (0,0),  (0,0),  (0,0),   (0,0)],\n",
        "                 [(0,0),   (0,0),   (0,0),   (0,0),    (0,0),    (0,0),  (0,0),   (0,0),  (0,0),   (0,0)], \n",
        "                 [(0,0),   (0,0),   (0,0), (13,12),  (13,12),  (13,12), (13,12),  (0,0),  (0,0),   (0,0)], \n",
        "                 [(0,0),   (0,0),   (2,8),   (9,8), (11.5,8), (14.4,8),  (17,8), (24,8),  (0,0),   (0,0)],  \n",
        "                 [(0,0),   (0,0),   (2,6),   (7,6), (10.8,6), (15.2,6),  (19,6), (24,6),  (0,0),   (0,0)], \n",
        "                 [(0,0),   (0,0),   (2,4),   (5,4),   (10,4),   (16,4),  (21,4), (24,4),  (0,0),   (0,0)], \n",
        "                 [(0,0),   (0,0),   (0,0),   (2,1),    (9,1),   (17,1),  (24,1),  (0,0),  (0,0),   (0,0)],\n",
        "                 [(0,0),   (0,0),   (0,0),   (0,0),    (0,0),    (0,0),   (0,0),  (0,0),  (0,0),   (0,0)],\n",
        "                 [(0,0),   (0,0),   (0,0),   (0,0),    (0,0),    (0,0),   (0,0),  (0,0),  (0,0),   (0,0)]\n",
        "                ]\n",
        "\n",
        "'''\n",
        "Board_state = [ \n",
        "                [\"O\", \"E\", \"E\", \"E\", \"E\", \"O\"], \n",
        "                [\"E\", \"E\", \"E\", \"E\", \"E\", \"E\"], \n",
        "                [\"E\", \"E\", \"E\", \"E\", \"E\", \"E\"], \n",
        "                [\"E\", \"E\", \"E\", \"E\", \"E\", \"E\"], \n",
        "                [\"O\", \"E\", \"E\", \"E\", \"E\", \"O\"]\n",
        "              ]  \n",
        "'''               \n",
        "\n",
        "Board_num = [ \n",
        "              [\"0\",  \"0\",  \"0\",  \"0\",  \"0\",  \"0\",  \"0\",  \"0\", \"0\",  \"0\"],          \n",
        "              [\"0\",  \"0\",  \"0\",  \"0\",  \"0\",  \"0\",  \"0\",  \"0\", \"0\",  \"0\"],\n",
        "              [\"0\",  \"0\",  \"0\",  \"1\",  \"1\",  \"1\",  \"1\",  \"0\", \"0\",  \"0\"],\n",
        "              [\"0\",  \"0\",  \"2\",  \"3\",  \"4\",  \"5\",  \"6\",  \"7\", \"0\",  \"0\"],\n",
        "              [\"0\",  \"0\",  \"8\",  \"9\", \"10\", \"11\", \"12\", \"13\", \"0\",  \"0\"], \n",
        "              [\"0\",  \"0\", \"14\", \"15\", \"16\", \"17\", \"18\", \"19\", \"0\",  \"0\"], \n",
        "              [\"0\",  \"0\",  \"0\", \"20\", \"21\", \"22\", \"23\",  \"0\", \"0\",  \"0\"],\n",
        "              [\"0\",  \"0\",  \"0\",  \"0\",  \"0\",  \"0\",  \"0\", \"0\",  \"0\",  \"0\"],\n",
        "              [\"0\",  \"0\",  \"0\",  \"0\",  \"0\",  \"0\",  \"0\",  \"0\", \"0\",  \"0\"]\n",
        "            ]                 "
      ],
      "execution_count": 0,
      "outputs": []
    },
    {
      "cell_type": "code",
      "metadata": {
        "id": "ir5OY4tKXdVL",
        "colab_type": "code",
        "outputId": "577cddee-ac8c-48db-b3db-13bb7bea7833",
        "colab": {
          "base_uri": "https://localhost:8080/",
          "height": 55
        }
      },
      "source": [
        "B_num_coord_dict = {}\n",
        "for i in range(9) :\n",
        "  for j in range(10) :\n",
        "    B_num_coord_dict[Board_num[i][j]] = Board_points[i][j]\n",
        " \n",
        "print(B_num_coord_dict)"
      ],
      "execution_count": 4,
      "outputs": [
        {
          "output_type": "stream",
          "text": [
            "{'0': (0, 0), '1': (13, 12), '2': (2, 8), '3': (9, 8), '4': (11.5, 8), '5': (14.4, 8), '6': (17, 8), '7': (24, 8), '8': (2, 6), '9': (7, 6), '10': (10.8, 6), '11': (15.2, 6), '12': (19, 6), '13': (24, 6), '14': (2, 4), '15': (5, 4), '16': (10, 4), '17': (16, 4), '18': (21, 4), '19': (24, 4), '20': (2, 1), '21': (9, 1), '22': (17, 1), '23': (24, 1)}\n"
          ],
          "name": "stdout"
        }
      ]
    },
    {
      "cell_type": "code",
      "metadata": {
        "id": "RYUhh3dpYDtM",
        "colab_type": "code",
        "outputId": "506115fa-a339-4bab-8660-d33c193afde6",
        "colab": {
          "base_uri": "https://localhost:8080/",
          "height": 74
        }
      },
      "source": [
        "B_num_index_dict = {}\n",
        "B_state_dict = {}\n",
        "Board_num = np.array(Board_num)\n",
        "for num in range(1,24) :\n",
        "  i,j = np.where(Board_num == str(num))\n",
        "  B_num_index_dict[str(num)] = list(zip(i,j))\n",
        "  B_state_dict[str(num)] = \"E\" \n",
        "B_num_index_dict[\"0\"] = [(0,0)]\n",
        "print(B_num_index_dict)\n",
        "print(B_state_dict)"
      ],
      "execution_count": 5,
      "outputs": [
        {
          "output_type": "stream",
          "text": [
            "{'1': [(2, 3), (2, 4), (2, 5), (2, 6)], '2': [(3, 2)], '3': [(3, 3)], '4': [(3, 4)], '5': [(3, 5)], '6': [(3, 6)], '7': [(3, 7)], '8': [(4, 2)], '9': [(4, 3)], '10': [(4, 4)], '11': [(4, 5)], '12': [(4, 6)], '13': [(4, 7)], '14': [(5, 2)], '15': [(5, 3)], '16': [(5, 4)], '17': [(5, 5)], '18': [(5, 6)], '19': [(5, 7)], '20': [(6, 3)], '21': [(6, 4)], '22': [(6, 5)], '23': [(6, 6)], '0': [(0, 0)]}\n",
            "{'1': 'E', '2': 'E', '3': 'E', '4': 'E', '5': 'E', '6': 'E', '7': 'E', '8': 'E', '9': 'E', '10': 'E', '11': 'E', '12': 'E', '13': 'E', '14': 'E', '15': 'E', '16': 'E', '17': 'E', '18': 'E', '19': 'E', '20': 'E', '21': 'E', '22': 'E', '23': 'E'}\n"
          ],
          "name": "stdout"
        }
      ]
    },
    {
      "cell_type": "code",
      "metadata": {
        "id": "YZBSArPouI0C",
        "colab_type": "code",
        "colab": {}
      },
      "source": [
        "x_board_points = []\n",
        "y_board_points = []\n",
        "board_pairs = []\n",
        "for points in Board_points :\n",
        "  for pair in points :\n",
        "    board_pairs.append(pair)\n",
        "    a,b = pair \n",
        "    x_board_points.append(a)\n",
        "    y_board_points.append(b)"
      ],
      "execution_count": 0,
      "outputs": []
    },
    {
      "cell_type": "code",
      "metadata": {
        "id": "B9wrhTc6xTvY",
        "colab_type": "code",
        "colab": {}
      },
      "source": [
        "def plot_board() :\n",
        "  #plt.plot(x_board_points, y_board_points, 'ko')\n",
        "  plt.axis([0, 26 , 0, 13])\n",
        "  plt.plot([2,24], [8,  8], color = 'black')# top horizontal line\n",
        "  plt.plot([2, 24], [6, 6], color = 'black')# top 2nd horizontal line\n",
        "  plt.plot([2, 24], [4, 4], color = 'black')# bottom 2nd horizontal line\n",
        "  plt.plot([2, 24], [1, 1], color = 'black')# bottom horizontal line\n",
        "  plt.plot([2, 2], [4, 8] , color = 'black')# left vertical\n",
        "  plt.plot([24, 24], [4, 8], color = 'black')# right vertical\n",
        "  plt.plot([2, 13, 24], [1, 12, 1], color = 'black')# outer triangle\n",
        "  plt.plot([9, 13, 17], [1, 12, 1], color = 'black')# inner triangle"
      ],
      "execution_count": 0,
      "outputs": []
    },
    {
      "cell_type": "code",
      "metadata": {
        "id": "ecKegNutCf7K",
        "colab_type": "code",
        "colab": {}
      },
      "source": [
        "def validate_single_step(obj, dest_pos) :\n",
        "  is_valid = False\n",
        "  if B_state_dict[dest_pos] == \"E\" : \n",
        "    # then continue the process for validating the move\n",
        "    d_pos_list = B_num_index_dict[dest_pos]\n",
        "    for d_pair in d_pos_list : # loop is used if d_pos is at \"1\"\n",
        "      x,y = d_pair\n",
        "      surr_index_list = [(x,y-1), (x+1,y), (x,y+1),(x-1,y)]\n",
        "      for c_pair in B_num_index_dict[obj.current_pos] : # loop is used if current_pos is at \"1\"\n",
        "        if c_pair in surr_index_list :\n",
        "          #if true! the move is valid\n",
        "          is_valid = True\n",
        "          return is_valid\n",
        "  else :\n",
        "    return is_valid\n",
        "def single_step_move(obj,dest_pos) :\n",
        "  is_valid = validate_single_step(obj, dest_pos)\n",
        "  if is_valid :\n",
        "    B_state_dict[obj.current_pos] = \"E\"\n",
        "    obj.current_pos = dest_pos\n",
        "    B_state_dict[obj.current_pos] = obj.name\n",
        "  else :\n",
        "    print(\"Invalid destination point\")"
      ],
      "execution_count": 0,
      "outputs": []
    },
    {
      "cell_type": "markdown",
      "metadata": {
        "id": "nYXb0SaWJ7AR",
        "colab_type": "text"
      },
      "source": [
        "<h6><b>/Board</b></h6>"
      ]
    },
    {
      "cell_type": "markdown",
      "metadata": {
        "id": "VKty6KqVOrVt",
        "colab_type": "text"
      },
      "source": [
        "<h6><b>Tiger</b></h6>"
      ]
    },
    {
      "cell_type": "code",
      "metadata": {
        "id": "cZeKP0yqPhdn",
        "colab_type": "code",
        "colab": {}
      },
      "source": [
        "class Tiger :\n",
        "  tiger_count = 0\n",
        "  prev_pos_1 = [0,0]\n",
        "  prev_pos_2 = [0,0]\n",
        "  name = \"\"\n",
        "  current_pos = [0,0]\n",
        "  def __init__(self) :\n",
        "    self.name = \"T \"+str(Tiger.tiger_count)+\" \"\n",
        "    self.set_pos()\n",
        "    Tiger.tiger_count += 1 # has to be in the last line  \n",
        "  \n",
        "  def set_pos(self) :\n",
        "    if  Tiger.tiger_count == 0 :\n",
        "      self.current_pos = \"1\" \n",
        "      B_state_dict[\"1\"] = self.name\n",
        "    if Tiger.tiger_count == 1 :\n",
        "      self.current_pos = \"4\"\n",
        "      B_state_dict[\"4\"] = self.name\n",
        "    if Tiger.tiger_count == 2 :\n",
        "      self.current_pos = \"5\"\n",
        "      B_state_dict[\"5\"] = self.name\n",
        "\n",
        "  #def moves(self, dest_pos) :\n",
        "    #if"
      ],
      "execution_count": 0,
      "outputs": []
    },
    {
      "cell_type": "code",
      "metadata": {
        "id": "Ud4pMKqFGcFF",
        "colab_type": "code",
        "outputId": "6828d151-106e-428a-9d9f-81df3113bfd0",
        "colab": {
          "base_uri": "https://localhost:8080/",
          "height": 55
        }
      },
      "source": [
        "def plot_tigers() :\n",
        "  #plot_board()\n",
        "  for obj in tiger_obj :\n",
        "    plt.plot(B_num_coord_dict[obj.current_pos][0], B_num_coord_dict[obj.current_pos][1], 'ro')\n",
        "    plt.text(B_num_coord_dict[obj.current_pos][0], B_num_coord_dict[obj.current_pos][1]+0.1, obj.name, horizontalalignment='right', verticalalignment = 'bottom')"
      ],
      "execution_count": 10,
      "outputs": [
        {
          "output_type": "execute_result",
          "data": {
            "text/plain": [
              "\"\\n  plt.plot(B_num_coord_dict[tiger_obj[0].current_pos][0], B_num_coord_dict[tiger_obj[0].current_pos][1], 'ro')\\n  plt.text(B_num_coord_dict[tiger_obj[0].current_pos][0], B_num_coord_dict[tiger_obj[0].current_pos][1]+0.1, tiger_obj[0].name, horizontalalignment='right', verticalalignment = 'bottom')\\n\\n  plt.plot(B_num_coord_dict[tiger_obj[1].current_pos][0], B_num_coord_dict[tiger_obj[1].current_pos][1], 'ro')\\n  plt.text(B_num_coord_dict[tiger_obj[1].current_pos][0], B_num_coord_dict[tiger_obj[1].current_pos][1]+0.1, tiger_obj[1].name, horizontalalignment='right', verticalalignment = 'bottom')\\n\\n  plt.plot(B_num_coord_dict[tiger_obj[2].current_pos][0], B_num_coord_dict[tiger_obj[2].current_pos][1], 'ro')\\n  plt.text(B_num_coord_dict[tiger_obj[2].current_pos][0], B_num_coord_dict[tiger_obj[2].current_pos][1]+0.1, tiger_obj[2].name, horizontalalignment='right', verticalalignment = 'bottom')\\n\""
            ]
          },
          "metadata": {
            "tags": []
          },
          "execution_count": 10
        }
      ]
    },
    {
      "cell_type": "code",
      "metadata": {
        "id": "-2ex2TTIser5",
        "colab_type": "code",
        "colab": {}
      },
      "source": [
        "tiger_obj = [Tiger() for i in range(3)]"
      ],
      "execution_count": 0,
      "outputs": []
    },
    {
      "cell_type": "code",
      "metadata": {
        "id": "I6aNzXULLNyc",
        "colab_type": "code",
        "outputId": "f0356b2e-f23f-4e43-9808-0de069816633",
        "colab": {
          "base_uri": "https://localhost:8080/",
          "height": 90
        }
      },
      "source": [
        "name = \"T 0 \"\n",
        "for i, obj in enumerate(tiger_obj) :\n",
        "  print(name == obj.name)\n",
        "  if name == obj.name :\n",
        "    print(obj.current_pos)"
      ],
      "execution_count": 12,
      "outputs": [
        {
          "output_type": "stream",
          "text": [
            "True\n",
            "1\n",
            "False\n",
            "False\n"
          ],
          "name": "stdout"
        }
      ]
    },
    {
      "cell_type": "markdown",
      "metadata": {
        "id": "hA0G5Hv8Ow-p",
        "colab_type": "text"
      },
      "source": [
        "<h6><b>/Tiger</b></h6>"
      ]
    },
    {
      "cell_type": "markdown",
      "metadata": {
        "id": "lB3hF5m8PIbu",
        "colab_type": "text"
      },
      "source": [
        "<h6><b>Goat</b></h6>"
      ]
    },
    {
      "cell_type": "code",
      "metadata": {
        "id": "kozWvVqrLHih",
        "colab_type": "code",
        "colab": {}
      },
      "source": [
        "class Goat :\n",
        "  goat_count = 0\n",
        "  prev_pos_1 = [0,0]\n",
        "  prev_pos_2 = [0,0]\n",
        "  name = \"\"\n",
        "  is_alive = True\n",
        "  is_on_board = True\n",
        "  current_pos = \"0\"\n",
        "  #def __init__(self) :\n",
        "\n",
        "    # has to be in the last line  \n",
        "  def set_pos(self, dest_pos) :\n",
        "    if B_state_dict[dest_pos] == \"E\" :\n",
        "      self.name = \"G \"+str(Goat.goat_count)+\" \" \n",
        "      Goat.goat_count += 1\n",
        "      self.current_pos = dest_pos\n",
        "    else :\n",
        "      print(\"Invalid destination point\")\n",
        "    "
      ],
      "execution_count": 0,
      "outputs": []
    },
    {
      "cell_type": "code",
      "metadata": {
        "id": "3wspiy9FkAFa",
        "colab_type": "code",
        "colab": {}
      },
      "source": [
        "goat_obj = [Goat() for i in range(15)]\n",
        "# have to create a dictionary for goat_obj"
      ],
      "execution_count": 0,
      "outputs": []
    },
    {
      "cell_type": "code",
      "metadata": {
        "id": "fwdXmoE_QG3T",
        "colab_type": "code",
        "colab": {}
      },
      "source": [
        "def plot_goats() :\n",
        "  for obj in goat_obj :\n",
        "    plt.plot(B_num_coord_dict[obj.current_pos][0], B_num_coord_dict[obj.current_pos][1], 'bo')\n",
        "    plt.text(B_num_coord_dict[obj.current_pos][0], B_num_coord_dict[obj.current_pos][1]+0.1, obj.name, horizontalalignment='right', verticalalignment = 'bottom')"
      ],
      "execution_count": 0,
      "outputs": []
    },
    {
      "cell_type": "markdown",
      "metadata": {
        "id": "S33CkFwOPK7W",
        "colab_type": "text"
      },
      "source": [
        "<h6><b>/Goat</b></h6>"
      ]
    },
    {
      "cell_type": "markdown",
      "metadata": {
        "id": "Bg_OO8U-RFuO",
        "colab_type": "text"
      },
      "source": [
        "<h6><b>Main</b></h6>"
      ]
    },
    {
      "cell_type": "code",
      "metadata": {
        "id": "-ZZzEoYhNbgs",
        "colab_type": "code",
        "colab": {}
      },
      "source": [
        "def plot_all():\n",
        "  plot_board()\n",
        "  plot_tigers()\n",
        "  plot_goats()"
      ],
      "execution_count": 0,
      "outputs": []
    },
    {
      "cell_type": "code",
      "metadata": {
        "id": "LWPgha6IuHUl",
        "colab_type": "code",
        "colab": {}
      },
      "source": [
        "player_turn = True # True  --> Goat ,,, False -->  Tiger"
      ],
      "execution_count": 0,
      "outputs": []
    },
    {
      "cell_type": "code",
      "metadata": {
        "id": "TZ_rp-ViRPhL",
        "colab_type": "code",
        "colab": {}
      },
      "source": [
        "def ask_player_T() :\n",
        "  num = int(input(\"Enter Tiger number \"))\n",
        "  dest_pos = input(\"Enter destination position \")\n",
        "  single_step_move(tiger_obj[num], dest_pos)\n",
        "def ask_player_G() :\n",
        "  if Goat.goat_count < 15 :\n",
        "    dest_pos = input(\"Enter destination position for new Goat\")\n",
        "    goat_obj[Goat.goat_count].set_pos(dest_pos)\n",
        "  else :\n",
        "    num = int(input(\"Enter Goat number \"))\n",
        "    dest_pos = input(\"Enter destination position \")\n",
        "    single_step_move(goat_obj[num], dest_pos)\n",
        "      "
      ],
      "execution_count": 0,
      "outputs": []
    },
    {
      "cell_type": "code",
      "metadata": {
        "id": "bp0JDYuqMM3O",
        "colab_type": "code",
        "colab": {}
      },
      "source": [
        "#def blocked_tiger():\n",
        "#  for obj in tiger_obj :\n",
        "    "
      ],
      "execution_count": 0,
      "outputs": []
    },
    {
      "cell_type": "code",
      "metadata": {
        "id": "W3ExEoM5uXvX",
        "colab_type": "code",
        "colab": {}
      },
      "source": [
        "game_done = False\n",
        "while not game_done :\n",
        "  plot_all()\n",
        "  if player_turn :\n",
        "    ask_player_G()\n",
        "  else :\n",
        "    ask_player_T()\n",
        "  player_turn = not player_turn\n",
        "  plt.clf()"
      ],
      "execution_count": 0,
      "outputs": []
    },
    {
      "cell_type": "markdown",
      "metadata": {
        "id": "uVjO1-4sRNrh",
        "colab_type": "text"
      },
      "source": [
        "<h6><b>/Main</b></h6>"
      ]
    }
  ]
}
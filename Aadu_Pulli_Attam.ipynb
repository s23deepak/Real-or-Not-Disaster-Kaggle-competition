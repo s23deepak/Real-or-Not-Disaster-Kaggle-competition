{
  "nbformat": 4,
  "nbformat_minor": 0,
  "metadata": {
    "colab": {
      "name": "Aadu-Pulli-Attam.ipynb",
      "provenance": [],
      "authorship_tag": "ABX9TyMXvmlCMlkBlCL3/8iMvVH7",
      "include_colab_link": true
    },
    "kernelspec": {
      "name": "python3",
      "display_name": "Python 3"
    }
  },
  "cells": [
    {
      "cell_type": "markdown",
      "metadata": {
        "id": "view-in-github",
        "colab_type": "text"
      },
      "source": [
        "<a href=\"https://colab.research.google.com/github/s23deepak/Real-or-Not-Disaster-Kaggle-competition/blob/master/Aadu_Pulli_Attam.ipynb\" target=\"_parent\"><img src=\"https://colab.research.google.com/assets/colab-badge.svg\" alt=\"Open In Colab\"/></a>"
      ]
    },
    {
      "cell_type": "code",
      "metadata": {
        "id": "LAZ6Py58z1gF",
        "colab_type": "code",
        "colab": {}
      },
      "source": [
        "#Hatake Kakashi"
      ],
      "execution_count": 0,
      "outputs": []
    },
    {
      "cell_type": "code",
      "metadata": {
        "id": "US122255PRvd",
        "colab_type": "code",
        "colab": {}
      },
      "source": [
        "import numpy as np\n",
        "import matplotlib.pyplot as plt"
      ],
      "execution_count": 0,
      "outputs": []
    },
    {
      "cell_type": "markdown",
      "metadata": {
        "id": "wRaeIfCeM0SX",
        "colab_type": "text"
      },
      "source": [
        "<h6><b>Board</b></h6>"
      ]
    },
    {
      "cell_type": "code",
      "metadata": {
        "id": "fYUMzmOhPeHf",
        "colab_type": "code",
        "colab": {}
      },
      "source": [
        "Board_points = [                     [(13,12)], \n",
        "                [(2,8), (9,8), (11.5,8), (14.4,8), (17,8), (24,8)],  \n",
        "                [(2,6), (7,6), (10.8,6), (15.2,6), (19,6), (24,6)], \n",
        "                [(2,4), (5,4), (10,4),   (16,4),   (21,4), (24,4)], \n",
        "                          [(2,1), (9,1), (17,1),(24,1)]\n",
        "                ]\n",
        "\n",
        "'''\n",
        "Board_state = [              [\"E\"], \n",
        "                [\"E\", \"E\", \"E\", \"E\", \"E\", \"E\"], \n",
        "                [\"E\", \"E\", \"E\", \"E\", \"E\", \"E\"], \n",
        "                [\"E\", \"E\", \"E\", \"E\", \"E\", \"E\"], \n",
        "                     [ \"E\", \"E\", \"E\",\"E\" ]\n",
        "               ]  \n",
        "'''               \n",
        "\n",
        "Board_num = [                   [\"1\"], \n",
        "                [\"2\",  \"3\",  \"4\",  \"5\",  \"6\",  \"7\"], \n",
        "                [\"8\",  \"9\",  \"10\", \"11\", \"12\", \"13\"], \n",
        "                [\"14\", \"15\", \"16\", \"17\", \"18\", \"19\"], \n",
        "                     [ \"20\", \"21\", \"22\",\"23\" ]\n",
        "               ] "
      ],
      "execution_count": 0,
      "outputs": []
    },
    {
      "cell_type": "code",
      "metadata": {
        "id": "YZBSArPouI0C",
        "colab_type": "code",
        "colab": {}
      },
      "source": [
        "x_board_points = []\n",
        "y_board_points = []\n",
        "board_pairs = []\n",
        "for points in Board_points :\n",
        "  for pair in points :\n",
        "    board_pairs.append(pair)\n",
        "    a,b = pair\n",
        "    x_board_points.append(a)\n",
        "    y_board_points.append(b)"
      ],
      "execution_count": 0,
      "outputs": []
    },
    {
      "cell_type": "code",
      "metadata": {
        "id": "0PmbBCHxgWCS",
        "colab_type": "code",
        "colab": {}
      },
      "source": [
        "board_num = []\n",
        "for pos_num in Board_num :\n",
        "  for num in pos_num :\n",
        "    board_num.append(num)"
      ],
      "execution_count": 0,
      "outputs": []
    },
    {
      "cell_type": "code",
      "metadata": {
        "id": "zczkyJRjuRLD",
        "colab_type": "code",
        "colab": {}
      },
      "source": [
        "board_dict = {}\n",
        "board_zip = zip(board_num, board_pairs)\n",
        "for num, pair in board_zip :\n",
        "  board_dict[num] = [ pair, \"E\" ]"
      ],
      "execution_count": 0,
      "outputs": []
    },
    {
      "cell_type": "code",
      "metadata": {
        "id": "B9wrhTc6xTvY",
        "colab_type": "code",
        "colab": {}
      },
      "source": [
        "def plot_board() :\n",
        "  #plt.plot(x_board_points, y_board_points, 'ko')\n",
        "  plt.axis([0, 26 , 0, 13])\n",
        "  plt.plot([2,24], [8,  8], color = 'black')# top horizontal line\n",
        "  plt.plot([2, 24], [6, 6], color = 'black')# top 2nd horizontal line\n",
        "  plt.plot([2, 24], [4, 4], color = 'black')# bottom 2nd horizontal line\n",
        "  plt.plot([2, 24], [1, 1], color = 'black')# bottom horizontal line\n",
        "  plt.plot([2, 2], [4, 8] , color = 'black')# left vertical\n",
        "  plt.plot([24, 24], [4, 8], color = 'black')# right vertical\n",
        "  plt.plot([2, 13, 24], [1, 12, 1], color = 'black')# outer triangle\n",
        "  plt.plot([9, 13, 17], [1, 12, 1], color = 'black')# inner triangle\n"
      ],
      "execution_count": 0,
      "outputs": []
    },
    {
      "cell_type": "markdown",
      "metadata": {
        "id": "boG-hK0jOiKX",
        "colab_type": "text"
      },
      "source": [
        "<h6><b>/Board</b></h6>"
      ]
    },
    {
      "cell_type": "markdown",
      "metadata": {
        "id": "VKty6KqVOrVt",
        "colab_type": "text"
      },
      "source": [
        "<h6><b>Tiger</b></h6>"
      ]
    },
    {
      "cell_type": "code",
      "metadata": {
        "id": "cZeKP0yqPhdn",
        "colab_type": "code",
        "colab": {}
      },
      "source": [
        "class Tiger :\n",
        "  tiger_count = 0\n",
        "  prev_pos_1 = [0,0]\n",
        "  prev_pos_2 = [0,0]\n",
        "  name = \"\"\n",
        "  current_pos = [0,0]\n",
        "  def __init__(self) :\n",
        "    self.name = \"T \"+str(Tiger.tiger_count)+\" \"\n",
        "    self.set_pos()\n",
        "    Tiger.tiger_count += 1 # has to be in the last line  \n",
        "  \n",
        "  def set_pos(self) :\n",
        "    if  Tiger.tiger_count == 0 :\n",
        "      self.current_pos = Board_points[0][0]\n",
        "      Board_state[0][0] = \"T\"\n",
        "    if Tiger.tiger_count == 1 :\n",
        "      self.current_pos = Board_points[1][2]\n",
        "      Board_state[0][0] = \"T\"\n",
        "    if Tiger.tiger_count == 2 :\n",
        "      self.current_pos = Board_points[1][3]\n",
        "      Board_state[0][0] = \"T\"\n",
        "\n",
        "  #def moves(self, dest_pos) :\n",
        "    #if"
      ],
      "execution_count": 0,
      "outputs": []
    },
    {
      "cell_type": "code",
      "metadata": {
        "id": "Ud4pMKqFGcFF",
        "colab_type": "code",
        "colab": {}
      },
      "source": [
        "def plot_tigers() :\n",
        "  plot_board()\n",
        "\n",
        "  plt.plot(tiger_obj[0].current_pos[0], tiger_obj[0].current_pos[1], 'ro')\n",
        "  plt.text(tiger_obj[0].current_pos[0], (tiger_obj[0].current_pos[1])+0.1, tiger_obj[0].name, horizontalalignment='right', verticalalignment = 'bottom')\n",
        "\n",
        "  plt.plot(tiger_obj[1].current_pos[0], tiger_obj[1].current_pos[1], 'ro')\n",
        "  plt.text(tiger_obj[1].current_pos[0], (tiger_obj[1].current_pos[1])+0.1, tiger_obj[1].name, horizontalalignment='right', verticalalignment = 'bottom')\n",
        "\n",
        "  plt.plot(tiger_obj[2].current_pos[0], tiger_obj[2].current_pos[1], 'ro')\n",
        "  plt.text(tiger_obj[2].current_pos[0], (tiger_obj[2].current_pos[1])+0.1, tiger_obj[2].name, horizontalalignment='right', verticalalignment = 'bottom')"
      ],
      "execution_count": 0,
      "outputs": []
    },
    {
      "cell_type": "code",
      "metadata": {
        "id": "-2ex2TTIser5",
        "colab_type": "code",
        "colab": {
          "base_uri": "https://localhost:8080/",
          "height": 325
        },
        "outputId": "ff3d8888-7552-4412-d381-4ad885b64218"
      },
      "source": [
        "tiger_obj = [Tiger() for i in range(3)]"
      ],
      "execution_count": 25,
      "outputs": [
        {
          "output_type": "error",
          "ename": "NameError",
          "evalue": "ignored",
          "traceback": [
            "\u001b[0;31m---------------------------------------------------------------------------\u001b[0m",
            "\u001b[0;31mNameError\u001b[0m                                 Traceback (most recent call last)",
            "\u001b[0;32m<ipython-input-25-57b0bd7f5c62>\u001b[0m in \u001b[0;36m<module>\u001b[0;34m()\u001b[0m\n\u001b[0;32m----> 1\u001b[0;31m \u001b[0mtiger_obj\u001b[0m \u001b[0;34m=\u001b[0m \u001b[0;34m[\u001b[0m\u001b[0mTiger\u001b[0m\u001b[0;34m(\u001b[0m\u001b[0;34m)\u001b[0m \u001b[0;32mfor\u001b[0m \u001b[0mi\u001b[0m \u001b[0;32min\u001b[0m \u001b[0mrange\u001b[0m\u001b[0;34m(\u001b[0m\u001b[0;36m3\u001b[0m\u001b[0;34m)\u001b[0m\u001b[0;34m]\u001b[0m\u001b[0;34m\u001b[0m\u001b[0;34m\u001b[0m\u001b[0m\n\u001b[0m",
            "\u001b[0;32m<ipython-input-25-57b0bd7f5c62>\u001b[0m in \u001b[0;36m<listcomp>\u001b[0;34m(.0)\u001b[0m\n\u001b[0;32m----> 1\u001b[0;31m \u001b[0mtiger_obj\u001b[0m \u001b[0;34m=\u001b[0m \u001b[0;34m[\u001b[0m\u001b[0mTiger\u001b[0m\u001b[0;34m(\u001b[0m\u001b[0;34m)\u001b[0m \u001b[0;32mfor\u001b[0m \u001b[0mi\u001b[0m \u001b[0;32min\u001b[0m \u001b[0mrange\u001b[0m\u001b[0;34m(\u001b[0m\u001b[0;36m3\u001b[0m\u001b[0;34m)\u001b[0m\u001b[0;34m]\u001b[0m\u001b[0;34m\u001b[0m\u001b[0;34m\u001b[0m\u001b[0m\n\u001b[0m",
            "\u001b[0;32m<ipython-input-23-f6361cb88564>\u001b[0m in \u001b[0;36m__init__\u001b[0;34m(self)\u001b[0m\n\u001b[1;32m      7\u001b[0m   \u001b[0;32mdef\u001b[0m \u001b[0m__init__\u001b[0m\u001b[0;34m(\u001b[0m\u001b[0mself\u001b[0m\u001b[0;34m)\u001b[0m \u001b[0;34m:\u001b[0m\u001b[0;34m\u001b[0m\u001b[0;34m\u001b[0m\u001b[0m\n\u001b[1;32m      8\u001b[0m     \u001b[0mself\u001b[0m\u001b[0;34m.\u001b[0m\u001b[0mname\u001b[0m \u001b[0;34m=\u001b[0m \u001b[0;34m\"T \"\u001b[0m\u001b[0;34m+\u001b[0m\u001b[0mstr\u001b[0m\u001b[0;34m(\u001b[0m\u001b[0mTiger\u001b[0m\u001b[0;34m.\u001b[0m\u001b[0mtiger_count\u001b[0m\u001b[0;34m)\u001b[0m\u001b[0;34m+\u001b[0m\u001b[0;34m\" \"\u001b[0m\u001b[0;34m\u001b[0m\u001b[0;34m\u001b[0m\u001b[0m\n\u001b[0;32m----> 9\u001b[0;31m     \u001b[0mself\u001b[0m\u001b[0;34m.\u001b[0m\u001b[0mset_pos\u001b[0m\u001b[0;34m(\u001b[0m\u001b[0;34m)\u001b[0m\u001b[0;34m\u001b[0m\u001b[0;34m\u001b[0m\u001b[0m\n\u001b[0m\u001b[1;32m     10\u001b[0m     \u001b[0mTiger\u001b[0m\u001b[0;34m.\u001b[0m\u001b[0mtiger_count\u001b[0m \u001b[0;34m+=\u001b[0m \u001b[0;36m1\u001b[0m \u001b[0;31m# has to be in the last line\u001b[0m\u001b[0;34m\u001b[0m\u001b[0;34m\u001b[0m\u001b[0m\n\u001b[1;32m     11\u001b[0m \u001b[0;34m\u001b[0m\u001b[0m\n",
            "\u001b[0;32m<ipython-input-23-f6361cb88564>\u001b[0m in \u001b[0;36mset_pos\u001b[0;34m(self)\u001b[0m\n\u001b[1;32m     13\u001b[0m     \u001b[0;32mif\u001b[0m  \u001b[0mTiger\u001b[0m\u001b[0;34m.\u001b[0m\u001b[0mtiger_count\u001b[0m \u001b[0;34m==\u001b[0m \u001b[0;36m0\u001b[0m \u001b[0;34m:\u001b[0m\u001b[0;34m\u001b[0m\u001b[0;34m\u001b[0m\u001b[0m\n\u001b[1;32m     14\u001b[0m       \u001b[0mself\u001b[0m\u001b[0;34m.\u001b[0m\u001b[0mcurrent_pos\u001b[0m \u001b[0;34m=\u001b[0m \u001b[0mBoard_points\u001b[0m\u001b[0;34m[\u001b[0m\u001b[0;36m0\u001b[0m\u001b[0;34m]\u001b[0m\u001b[0;34m[\u001b[0m\u001b[0;36m0\u001b[0m\u001b[0;34m]\u001b[0m\u001b[0;34m\u001b[0m\u001b[0;34m\u001b[0m\u001b[0m\n\u001b[0;32m---> 15\u001b[0;31m       \u001b[0mBoard_state\u001b[0m\u001b[0;34m[\u001b[0m\u001b[0;36m0\u001b[0m\u001b[0;34m]\u001b[0m\u001b[0;34m[\u001b[0m\u001b[0;36m0\u001b[0m\u001b[0;34m]\u001b[0m \u001b[0;34m=\u001b[0m \u001b[0;34m\"T\"\u001b[0m\u001b[0;34m\u001b[0m\u001b[0;34m\u001b[0m\u001b[0m\n\u001b[0m\u001b[1;32m     16\u001b[0m     \u001b[0;32mif\u001b[0m \u001b[0mTiger\u001b[0m\u001b[0;34m.\u001b[0m\u001b[0mtiger_count\u001b[0m \u001b[0;34m==\u001b[0m \u001b[0;36m1\u001b[0m \u001b[0;34m:\u001b[0m\u001b[0;34m\u001b[0m\u001b[0;34m\u001b[0m\u001b[0m\n\u001b[1;32m     17\u001b[0m       \u001b[0mself\u001b[0m\u001b[0;34m.\u001b[0m\u001b[0mcurrent_pos\u001b[0m \u001b[0;34m=\u001b[0m \u001b[0mBoard_points\u001b[0m\u001b[0;34m[\u001b[0m\u001b[0;36m1\u001b[0m\u001b[0;34m]\u001b[0m\u001b[0;34m[\u001b[0m\u001b[0;36m2\u001b[0m\u001b[0;34m]\u001b[0m\u001b[0;34m\u001b[0m\u001b[0;34m\u001b[0m\u001b[0m\n",
            "\u001b[0;31mNameError\u001b[0m: name 'Board_state' is not defined"
          ]
        }
      ]
    },
    {
      "cell_type": "code",
      "metadata": {
        "id": "I6aNzXULLNyc",
        "colab_type": "code",
        "colab": {}
      },
      "source": [
        "name = \"T 0\"\n",
        "for i, obj in enumerate(tiger_obj) :\n",
        "  print(name == obj.name)\n",
        "  if name == obj.name :\n",
        "    print(obj.current_pos)"
      ],
      "execution_count": 0,
      "outputs": []
    },
    {
      "cell_type": "markdown",
      "metadata": {
        "id": "hA0G5Hv8Ow-p",
        "colab_type": "text"
      },
      "source": [
        "<h6><b>/Tiger</b></h6>"
      ]
    },
    {
      "cell_type": "code",
      "metadata": {
        "id": "4NIDgpE1u6sh",
        "colab_type": "code",
        "colab": {}
      },
      "source": [
        "plot_tigers()\n",
        "plot_board()\n",
        "plt.show()"
      ],
      "execution_count": 0,
      "outputs": []
    },
    {
      "cell_type": "markdown",
      "metadata": {
        "id": "lB3hF5m8PIbu",
        "colab_type": "text"
      },
      "source": [
        "<h6><b>Goat</b></h6>"
      ]
    },
    {
      "cell_type": "code",
      "metadata": {
        "id": "kozWvVqrLHih",
        "colab_type": "code",
        "colab": {}
      },
      "source": [
        "class Goat :\n",
        "  goat_count = 0\n",
        "  prev_pos_1 = [0,0]\n",
        "  prev_pos_2 = [0,0]\n",
        "  name = \"\"\n",
        "  current_pos = [0,0]\n",
        "  def __init__(self) :\n",
        "    self.name = \"G \"+str(Goat.goat_count)+\" \" \n",
        "    # has to be in the last line  \n",
        "  def set_pos(dest_pos) :\n",
        "    current_pos = dest_pos\n",
        "    "
      ],
      "execution_count": 0,
      "outputs": []
    },
    {
      "cell_type": "code",
      "metadata": {
        "id": "3wspiy9FkAFa",
        "colab_type": "code",
        "colab": {}
      },
      "source": [
        "goat_obj = [Goat() for i in range(15)]\n",
        "# have to create a dictionary for goat_obj"
      ],
      "execution_count": 0,
      "outputs": []
    },
    {
      "cell_type": "markdown",
      "metadata": {
        "id": "S33CkFwOPK7W",
        "colab_type": "text"
      },
      "source": [
        "<h6><b>/Goat</b></h6>"
      ]
    },
    {
      "cell_type": "markdown",
      "metadata": {
        "id": "Bg_OO8U-RFuO",
        "colab_type": "text"
      },
      "source": [
        "<h6><b>Main</b></h6>"
      ]
    },
    {
      "cell_type": "code",
      "metadata": {
        "id": "LWPgha6IuHUl",
        "colab_type": "code",
        "colab": {}
      },
      "source": [
        "player_turn = False # Flase --> Goat ,,, True -->  Tiger"
      ],
      "execution_count": 0,
      "outputs": []
    },
    {
      "cell_type": "code",
      "metadata": {
        "id": "TZ_rp-ViRPhL",
        "colab_type": "code",
        "colab": {}
      },
      "source": [
        "def ask_player_T() :\n",
        "  num = int(input(\"Enter Tiger number \"))\n",
        "  dest_pos = input(\"Enter destination position \")\n",
        "  tiger_obj[num].tiger_moves(dest_pos)\n",
        "def ask_player_G() :\n",
        "  if Goat.goat_count < 0 :\n",
        "    dest_pos = input(\"Enter destination position\")\n",
        "    goat_obj[Goat.goat_count].set_pos(dest_pos)\n",
        "  else :\n",
        "    num = int(input(\"Enter Goat number \"))\n",
        "    dest_pos = input(\"Enter destination position \")\n",
        "    goat_obj[num].goat_moves(dest_pos)    "
      ],
      "execution_count": 0,
      "outputs": []
    },
    {
      "cell_type": "code",
      "metadata": {
        "id": "W3ExEoM5uXvX",
        "colab_type": "code",
        "colab": {}
      },
      "source": [
        "game_done = False\n",
        "while "
      ],
      "execution_count": 0,
      "outputs": []
    },
    {
      "cell_type": "markdown",
      "metadata": {
        "id": "uVjO1-4sRNrh",
        "colab_type": "text"
      },
      "source": [
        "<h6><b>/Main</b></h6>"
      ]
    }
  ]
}
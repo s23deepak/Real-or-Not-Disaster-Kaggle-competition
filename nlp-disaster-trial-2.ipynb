{
 "cells": [
  {
   "cell_type": "code",
   "execution_count": 1,
   "metadata": {
    "_cell_guid": "b1076dfc-b9ad-4769-8c92-a6c4dae69d19",
    "_uuid": "8f2839f25d086af736a60e9eeb907d3b93b6e0e5"
   },
   "outputs": [
    {
     "name": "stderr",
     "output_type": "stream",
     "text": [
      "Using TensorFlow backend.\n"
     ]
    }
   ],
   "source": [
    "import numpy as np\n",
    "import pandas as pd \n",
    "import re\n",
    "import os\n",
    "import string\n",
    "import tensorflow as tf\n",
    "from tensorflow.keras.preprocessing.text import Tokenizer\n",
    "from tensorflow.keras.preprocessing.sequence import pad_sequences\n",
    "from keras.optimizers import Adam\n",
    "from tensorflow.keras.initializers import Constant\n",
    "import nltk\n",
    "from nltk.corpus import stopwords\n",
    "from nltk.stem import WordNetLemmatizer\n",
    "from nltk.tokenize import word_tokenize\n",
    "lemmatizer = WordNetLemmatizer()\n",
    "from sklearn.model_selection import train_test_split"
   ]
  },
  {
   "cell_type": "code",
   "execution_count": 2,
   "metadata": {
    "_cell_guid": "79c7e3d0-c299-4dcb-8224-4455121ee9b0",
    "_uuid": "d629ff2d2480ee46fbb7e2d37f6b5fab8052498a"
   },
   "outputs": [
    {
     "name": "stdout",
     "output_type": "stream",
     "text": [
      "/kaggle/input/nlp-getting-started/train.csv\n",
      "/kaggle/input/nlp-getting-started/test.csv\n",
      "/kaggle/input/nlp-getting-started/sample_submission.csv\n",
      "/kaggle/input/glove6b100d-2/glove.6B.100d.txt\n"
     ]
    }
   ],
   "source": [
    "for dirname, _, filenames in os.walk('/kaggle/input'):\n",
    "    for filename in filenames:\n",
    "        print(os.path.join(dirname, filename))"
   ]
  },
  {
   "cell_type": "code",
   "execution_count": 3,
   "metadata": {},
   "outputs": [
    {
     "data": {
      "text/html": [
       "<div>\n",
       "<style scoped>\n",
       "    .dataframe tbody tr th:only-of-type {\n",
       "        vertical-align: middle;\n",
       "    }\n",
       "\n",
       "    .dataframe tbody tr th {\n",
       "        vertical-align: top;\n",
       "    }\n",
       "\n",
       "    .dataframe thead th {\n",
       "        text-align: right;\n",
       "    }\n",
       "</style>\n",
       "<table border=\"1\" class=\"dataframe\">\n",
       "  <thead>\n",
       "    <tr style=\"text-align: right;\">\n",
       "      <th></th>\n",
       "      <th>id</th>\n",
       "      <th>keyword</th>\n",
       "      <th>location</th>\n",
       "      <th>text</th>\n",
       "      <th>target</th>\n",
       "    </tr>\n",
       "  </thead>\n",
       "  <tbody>\n",
       "    <tr>\n",
       "      <th>0</th>\n",
       "      <td>1</td>\n",
       "      <td>NaN</td>\n",
       "      <td>NaN</td>\n",
       "      <td>Our Deeds are the Reason of this #earthquake M...</td>\n",
       "      <td>1</td>\n",
       "    </tr>\n",
       "    <tr>\n",
       "      <th>1</th>\n",
       "      <td>4</td>\n",
       "      <td>NaN</td>\n",
       "      <td>NaN</td>\n",
       "      <td>Forest fire near La Ronge Sask. Canada</td>\n",
       "      <td>1</td>\n",
       "    </tr>\n",
       "    <tr>\n",
       "      <th>2</th>\n",
       "      <td>5</td>\n",
       "      <td>NaN</td>\n",
       "      <td>NaN</td>\n",
       "      <td>All residents asked to 'shelter in place' are ...</td>\n",
       "      <td>1</td>\n",
       "    </tr>\n",
       "    <tr>\n",
       "      <th>3</th>\n",
       "      <td>6</td>\n",
       "      <td>NaN</td>\n",
       "      <td>NaN</td>\n",
       "      <td>13,000 people receive #wildfires evacuation or...</td>\n",
       "      <td>1</td>\n",
       "    </tr>\n",
       "    <tr>\n",
       "      <th>4</th>\n",
       "      <td>7</td>\n",
       "      <td>NaN</td>\n",
       "      <td>NaN</td>\n",
       "      <td>Just got sent this photo from Ruby #Alaska as ...</td>\n",
       "      <td>1</td>\n",
       "    </tr>\n",
       "  </tbody>\n",
       "</table>\n",
       "</div>"
      ],
      "text/plain": [
       "   id keyword location                                               text  \\\n",
       "0   1     NaN      NaN  Our Deeds are the Reason of this #earthquake M...   \n",
       "1   4     NaN      NaN             Forest fire near La Ronge Sask. Canada   \n",
       "2   5     NaN      NaN  All residents asked to 'shelter in place' are ...   \n",
       "3   6     NaN      NaN  13,000 people receive #wildfires evacuation or...   \n",
       "4   7     NaN      NaN  Just got sent this photo from Ruby #Alaska as ...   \n",
       "\n",
       "   target  \n",
       "0       1  \n",
       "1       1  \n",
       "2       1  \n",
       "3       1  \n",
       "4       1  "
      ]
     },
     "execution_count": 3,
     "metadata": {},
     "output_type": "execute_result"
    }
   ],
   "source": [
    "train_csv = pd.read_csv(\"/kaggle/input/nlp-getting-started/train.csv\")\n",
    "test_csv = pd.read_csv(\"/kaggle/input/nlp-getting-started/test.csv\")\n",
    "sample_submission_csv = pd.read_csv(\"/kaggle/input/nlp-getting-started/sample_submission.csv\")\n",
    "train_csv.head()"
   ]
  },
  {
   "cell_type": "code",
   "execution_count": 4,
   "metadata": {},
   "outputs": [
    {
     "data": {
      "text/html": [
       "<div>\n",
       "<style scoped>\n",
       "    .dataframe tbody tr th:only-of-type {\n",
       "        vertical-align: middle;\n",
       "    }\n",
       "\n",
       "    .dataframe tbody tr th {\n",
       "        vertical-align: top;\n",
       "    }\n",
       "\n",
       "    .dataframe thead th {\n",
       "        text-align: right;\n",
       "    }\n",
       "</style>\n",
       "<table border=\"1\" class=\"dataframe\">\n",
       "  <thead>\n",
       "    <tr style=\"text-align: right;\">\n",
       "      <th></th>\n",
       "      <th>id</th>\n",
       "      <th>keyword</th>\n",
       "      <th>text</th>\n",
       "      <th>target</th>\n",
       "    </tr>\n",
       "  </thead>\n",
       "  <tbody>\n",
       "    <tr>\n",
       "      <th>0</th>\n",
       "      <td>1</td>\n",
       "      <td>NaN</td>\n",
       "      <td>Our Deeds are the Reason of this #earthquake M...</td>\n",
       "      <td>1</td>\n",
       "    </tr>\n",
       "    <tr>\n",
       "      <th>1</th>\n",
       "      <td>4</td>\n",
       "      <td>NaN</td>\n",
       "      <td>Forest fire near La Ronge Sask. Canada</td>\n",
       "      <td>1</td>\n",
       "    </tr>\n",
       "    <tr>\n",
       "      <th>2</th>\n",
       "      <td>5</td>\n",
       "      <td>NaN</td>\n",
       "      <td>All residents asked to 'shelter in place' are ...</td>\n",
       "      <td>1</td>\n",
       "    </tr>\n",
       "    <tr>\n",
       "      <th>3</th>\n",
       "      <td>6</td>\n",
       "      <td>NaN</td>\n",
       "      <td>13,000 people receive #wildfires evacuation or...</td>\n",
       "      <td>1</td>\n",
       "    </tr>\n",
       "    <tr>\n",
       "      <th>4</th>\n",
       "      <td>7</td>\n",
       "      <td>NaN</td>\n",
       "      <td>Just got sent this photo from Ruby #Alaska as ...</td>\n",
       "      <td>1</td>\n",
       "    </tr>\n",
       "  </tbody>\n",
       "</table>\n",
       "</div>"
      ],
      "text/plain": [
       "   id keyword                                               text  target\n",
       "0   1     NaN  Our Deeds are the Reason of this #earthquake M...       1\n",
       "1   4     NaN             Forest fire near La Ronge Sask. Canada       1\n",
       "2   5     NaN  All residents asked to 'shelter in place' are ...       1\n",
       "3   6     NaN  13,000 people receive #wildfires evacuation or...       1\n",
       "4   7     NaN  Just got sent this photo from Ruby #Alaska as ...       1"
      ]
     },
     "execution_count": 4,
     "metadata": {},
     "output_type": "execute_result"
    }
   ],
   "source": [
    "train_df = train_csv\n",
    "train_df = train_df.drop('location', axis = 1)\n",
    "train_df.head()"
   ]
  },
  {
   "cell_type": "code",
   "execution_count": 5,
   "metadata": {},
   "outputs": [],
   "source": [
    "#re.findall(r'[\\w\\.-]+@[\\w\\.-]+', tweet) ----> email\n",
    "def remove_hashtag(tweet) :\n",
    "    hash_part = re.findall(r'#(\\w+)',tweet)\n",
    "    for index,words in enumerate(hash_part) :\n",
    "        sub = re.findall(r'[A-Z][A-Z0-9]+', words)\n",
    "        if sub :\n",
    "            split_word = words.split(sub[0])\n",
    "            string = sub[0] + \" \" + split_word[1]\n",
    "            if split_word[1] :\n",
    "                tweet = re.sub(r'#'+sub[0]+'[a-z]+',string,tweet)\n",
    "            else :\n",
    "                tweet = re.sub(r'#'+sub[0],string,tweet)\n",
    "        elif re.findall(r'[A-Z][a-z]+',words) :\n",
    "            sub = re.findall(r'[A-Z][a-z]+',words)\n",
    "            string = \"\"\n",
    "            if len(sub) !=1 :\n",
    "                for sub_word in sub :\n",
    "                    string = string + \" \"  + sub_word\n",
    "                tweet = re.sub(r'#'+sub[0]+'[a-zA-Z]+', string, tweet)\n",
    "            else :\n",
    "                string = string + sub[0] + \" \"\n",
    "                tweet = re.sub(r'#'+sub[0], string, tweet)\n",
    "        else :\n",
    "            tweet = re.sub(r'#'+hash_part[index], hash_part[index], tweet)\n",
    "    return tweet\n",
    "\n",
    "def rewrite_single_qoute(tweet) :\n",
    "    tweet = re.sub(r'i\\'m', 'i am', tweet)\n",
    "    tweet = re.sub(r'I\\'m', 'i am', tweet)\n",
    "    tweet = re.sub(r'can\\'t', 'can not', tweet)\n",
    "    tweet = re.sub(r'omg|Omg', 'oh my god', tweet)\n",
    "    #tweet = re.sub(r'', '', tweet)\n",
    "    tweet = re.sub(r'(\\w+)\\'re', '\\g<1>are', tweet)\n",
    "    tweet = re.sub(r'(\\w+)\\'s', '\\g<1>is', tweet)\n",
    "    tweet = re.sub(r'dammit', 'damn it', tweet)\n",
    "    tweet = re.sub(r'won\\'t', 'will not', tweet)\n",
    "    tweet = re.sub(r'wont', 'will not', tweet)\n",
    "    tweet = re.sub(r'(\\w+)\\'d', '\\g<1>would', tweet)\n",
    "    return tweet\n",
    "\n",
    "def remove_additional(tweet) :\n",
    "    tweet = re.sub('[^a-zA-z]+',' ',tweet)\n",
    "    return tweet\n",
    "\n",
    "\n",
    "def data_preprocessing(tweet) :\n",
    "    tweet = re.sub(r'http\\S+', '', tweet)\n",
    "    tweet = re.sub(r'@(\\w*)', '', tweet)\n",
    "    tweet = remove_hashtag(tweet)\n",
    "    tweet = re.sub(r'\\n',' ', tweet) \n",
    "    tweet = re.sub('\\s+', ' ', tweet).strip()\n",
    "    # rewriting words containing single qoute \n",
    "    tweet = rewrite_single_qoute(tweet)\n",
    "    tweet = remove_additional(tweet)#removing additional unwanted characters (and also remaining Hashtags)\n",
    "    tweet = tweet.lower()\n",
    "    #stop words code to be written below\n",
    "    tweet = tweet.split()\n",
    "    tweet = [w for w in tweet if not w in set(stopwords.words('english'))] \n",
    "    tweet = ' '.join(tweet)\n",
    "    #lemmatization\n",
    "    token_list = word_tokenize(tweet)\n",
    "    tweet = ' '.join([lemmatizer.lemmatize(w) for w in token_list])\n",
    "    return tweet"
   ]
  },
  {
   "cell_type": "code",
   "execution_count": 6,
   "metadata": {},
   "outputs": [
    {
     "data": {
      "text/html": [
       "<div>\n",
       "<style scoped>\n",
       "    .dataframe tbody tr th:only-of-type {\n",
       "        vertical-align: middle;\n",
       "    }\n",
       "\n",
       "    .dataframe tbody tr th {\n",
       "        vertical-align: top;\n",
       "    }\n",
       "\n",
       "    .dataframe thead th {\n",
       "        text-align: right;\n",
       "    }\n",
       "</style>\n",
       "<table border=\"1\" class=\"dataframe\">\n",
       "  <thead>\n",
       "    <tr style=\"text-align: right;\">\n",
       "      <th></th>\n",
       "      <th>id</th>\n",
       "      <th>keyword</th>\n",
       "      <th>text</th>\n",
       "      <th>target</th>\n",
       "      <th>joined</th>\n",
       "    </tr>\n",
       "  </thead>\n",
       "  <tbody>\n",
       "    <tr>\n",
       "      <th>0</th>\n",
       "      <td>1</td>\n",
       "      <td></td>\n",
       "      <td>Our Deeds are the Reason of this #earthquake M...</td>\n",
       "      <td>1</td>\n",
       "      <td>Our Deeds are the Reason of this #earthquake...</td>\n",
       "    </tr>\n",
       "    <tr>\n",
       "      <th>1</th>\n",
       "      <td>4</td>\n",
       "      <td></td>\n",
       "      <td>Forest fire near La Ronge Sask. Canada</td>\n",
       "      <td>1</td>\n",
       "      <td>Forest fire near La Ronge Sask. Canada</td>\n",
       "    </tr>\n",
       "    <tr>\n",
       "      <th>2</th>\n",
       "      <td>5</td>\n",
       "      <td></td>\n",
       "      <td>All residents asked to 'shelter in place' are ...</td>\n",
       "      <td>1</td>\n",
       "      <td>All residents asked to 'shelter in place' ar...</td>\n",
       "    </tr>\n",
       "    <tr>\n",
       "      <th>3</th>\n",
       "      <td>6</td>\n",
       "      <td></td>\n",
       "      <td>13,000 people receive #wildfires evacuation or...</td>\n",
       "      <td>1</td>\n",
       "      <td>13,000 people receive #wildfires evacuation ...</td>\n",
       "    </tr>\n",
       "    <tr>\n",
       "      <th>4</th>\n",
       "      <td>7</td>\n",
       "      <td></td>\n",
       "      <td>Just got sent this photo from Ruby #Alaska as ...</td>\n",
       "      <td>1</td>\n",
       "      <td>Just got sent this photo from Ruby #Alaska a...</td>\n",
       "    </tr>\n",
       "  </tbody>\n",
       "</table>\n",
       "</div>"
      ],
      "text/plain": [
       "   id keyword                                               text  target  \\\n",
       "0   1          Our Deeds are the Reason of this #earthquake M...       1   \n",
       "1   4                     Forest fire near La Ronge Sask. Canada       1   \n",
       "2   5          All residents asked to 'shelter in place' are ...       1   \n",
       "3   6          13,000 people receive #wildfires evacuation or...       1   \n",
       "4   7          Just got sent this photo from Ruby #Alaska as ...       1   \n",
       "\n",
       "                                              joined  \n",
       "0    Our Deeds are the Reason of this #earthquake...  \n",
       "1             Forest fire near La Ronge Sask. Canada  \n",
       "2    All residents asked to 'shelter in place' ar...  \n",
       "3    13,000 people receive #wildfires evacuation ...  \n",
       "4    Just got sent this photo from Ruby #Alaska a...  "
      ]
     },
     "execution_count": 6,
     "metadata": {},
     "output_type": "execute_result"
    }
   ],
   "source": [
    "train_df[\"keyword\"] = train_df[\"keyword\"].fillna(' ')\n",
    "train_df['joined'] = train_df[['keyword', 'text']].apply(lambda x: ' '.join(x), axis = 1)\n",
    "train_df.head()"
   ]
  },
  {
   "cell_type": "code",
   "execution_count": 7,
   "metadata": {},
   "outputs": [
    {
     "data": {
      "text/html": [
       "<div>\n",
       "<style scoped>\n",
       "    .dataframe tbody tr th:only-of-type {\n",
       "        vertical-align: middle;\n",
       "    }\n",
       "\n",
       "    .dataframe tbody tr th {\n",
       "        vertical-align: top;\n",
       "    }\n",
       "\n",
       "    .dataframe thead th {\n",
       "        text-align: right;\n",
       "    }\n",
       "</style>\n",
       "<table border=\"1\" class=\"dataframe\">\n",
       "  <thead>\n",
       "    <tr style=\"text-align: right;\">\n",
       "      <th></th>\n",
       "      <th>id</th>\n",
       "      <th>keyword</th>\n",
       "      <th>text</th>\n",
       "      <th>target</th>\n",
       "      <th>joined</th>\n",
       "    </tr>\n",
       "  </thead>\n",
       "  <tbody>\n",
       "    <tr>\n",
       "      <th>0</th>\n",
       "      <td>1</td>\n",
       "      <td></td>\n",
       "      <td>Our Deeds are the Reason of this #earthquake M...</td>\n",
       "      <td>1</td>\n",
       "      <td>deed reason earthquake may allah forgive u</td>\n",
       "    </tr>\n",
       "    <tr>\n",
       "      <th>1</th>\n",
       "      <td>4</td>\n",
       "      <td></td>\n",
       "      <td>Forest fire near La Ronge Sask. Canada</td>\n",
       "      <td>1</td>\n",
       "      <td>forest fire near la ronge sask canada</td>\n",
       "    </tr>\n",
       "    <tr>\n",
       "      <th>2</th>\n",
       "      <td>5</td>\n",
       "      <td></td>\n",
       "      <td>All residents asked to 'shelter in place' are ...</td>\n",
       "      <td>1</td>\n",
       "      <td>resident asked shelter place notified officer ...</td>\n",
       "    </tr>\n",
       "    <tr>\n",
       "      <th>3</th>\n",
       "      <td>6</td>\n",
       "      <td></td>\n",
       "      <td>13,000 people receive #wildfires evacuation or...</td>\n",
       "      <td>1</td>\n",
       "      <td>people receive wildfire evacuation order calif...</td>\n",
       "    </tr>\n",
       "    <tr>\n",
       "      <th>4</th>\n",
       "      <td>7</td>\n",
       "      <td></td>\n",
       "      <td>Just got sent this photo from Ruby #Alaska as ...</td>\n",
       "      <td>1</td>\n",
       "      <td>got sent photo ruby alaska smoke wildfire pour...</td>\n",
       "    </tr>\n",
       "  </tbody>\n",
       "</table>\n",
       "</div>"
      ],
      "text/plain": [
       "   id keyword                                               text  target  \\\n",
       "0   1          Our Deeds are the Reason of this #earthquake M...       1   \n",
       "1   4                     Forest fire near La Ronge Sask. Canada       1   \n",
       "2   5          All residents asked to 'shelter in place' are ...       1   \n",
       "3   6          13,000 people receive #wildfires evacuation or...       1   \n",
       "4   7          Just got sent this photo from Ruby #Alaska as ...       1   \n",
       "\n",
       "                                              joined  \n",
       "0         deed reason earthquake may allah forgive u  \n",
       "1              forest fire near la ronge sask canada  \n",
       "2  resident asked shelter place notified officer ...  \n",
       "3  people receive wildfire evacuation order calif...  \n",
       "4  got sent photo ruby alaska smoke wildfire pour...  "
      ]
     },
     "execution_count": 7,
     "metadata": {},
     "output_type": "execute_result"
    }
   ],
   "source": [
    "train_df['joined'] = train_df['joined'].apply(lambda x : data_preprocessing(x))\n",
    "train_df.head()"
   ]
  },
  {
   "cell_type": "code",
   "execution_count": 8,
   "metadata": {},
   "outputs": [
    {
     "name": "stdout",
     "output_type": "stream",
     "text": [
      "{'themselves', \"didn't\", 'such', 'mustn', 'him', 'had', 'no', 'over', 'hers', 'your', 'same', 'any', \"haven't\", 'o', 'because', 'with', 'can', 'd', 'isn', 'am', 'that', \"doesn't\", 'to', 'of', 'for', 'weren', 'each', \"weren't\", 'has', 'an', 've', 'below', 'off', 'aren', 'our', 'needn', \"you've\", 'those', \"it's\", 'most', 'both', 'are', 'some', 'he', 'up', 'won', 'these', 'again', 'not', 'shouldn', 'll', 'doing', 'into', 'from', 'did', 'how', 'mightn', \"shouldn't\", 'should', \"needn't\", 'my', 'does', 't', 'will', 'be', 'when', 'while', 'very', 'out', 'too', 'have', 'as', 'ours', \"hasn't\", 'if', 'was', 'myself', 'between', 'its', 'than', \"mustn't\", 'more', 'me', 'haven', 'what', 'himself', 'yourselves', 'ain', 'further', \"wouldn't\", 'on', 'own', \"won't\", 'them', 'her', 'only', 'ma', 'then', 'm', 'being', 'above', 'don', 'after', 'they', 'this', \"you'll\", \"couldn't\", 's', 'i', 'under', 'and', \"that'll\", 'before', 'a', \"shan't\", 'you', \"you're\", 'during', 'itself', 'at', 'through', 'y', \"wasn't\", \"don't\", 'but', 'few', 'the', 'were', \"isn't\", 'having', 'nor', 'so', 'do', 'herself', 'in', 'just', 'it', 'down', 'there', 'their', 'or', 'which', 'other', 'wouldn', 'who', 'by', 'whom', 'we', 'why', 're', 'once', 'she', 'been', 'yours', \"should've\", \"you'd\", \"aren't\", 'hadn', 'couldn', \"hadn't\", 'shan', 'hasn', 'about', 'didn', \"she's\", 'yourself', 'all', 'where', 'his', 'ourselves', \"mightn't\", 'wasn', 'here', 'theirs', 'against', 'now', 'is', 'doesn', 'until'}\n"
     ]
    }
   ],
   "source": [
    "stop_words = set(stopwords.words('english'))\n",
    "print(stop_words)"
   ]
  },
  {
   "cell_type": "code",
   "execution_count": 9,
   "metadata": {},
   "outputs": [
    {
     "name": "stdout",
     "output_type": "stream",
     "text": [
      "156\n"
     ]
    }
   ],
   "source": [
    "tweet_max_length = max(len(x) for x in train_df[\"joined\"])\n",
    "print(tweet_max_length)"
   ]
  },
  {
   "cell_type": "code",
   "execution_count": 10,
   "metadata": {},
   "outputs": [],
   "source": [
    "def create_corpus_new(df):\n",
    "    corpus=[]\n",
    "    for tweet in df['joined'] :\n",
    "        words=[word.lower() for word in word_tokenize(tweet)]\n",
    "        corpus.append(words)\n",
    "    return corpus  \n",
    "\n",
    "\n",
    "\n",
    "corpus=create_corpus_new(train_df)"
   ]
  },
  {
   "cell_type": "code",
   "execution_count": 11,
   "metadata": {},
   "outputs": [],
   "source": [
    "embedding_dict={}\n",
    "with open('/kaggle/input/glove6b100d-2/glove.6B.100d.txt','r') as f:\n",
    "    for line in f:\n",
    "        values=line.split()\n",
    "        word = values[0]  # added\n",
    "        vectors=np.asarray(values[1:],'float32')\n",
    "        embedding_dict[word]=vectors\n",
    "f.close()"
   ]
  },
  {
   "cell_type": "code",
   "execution_count": 12,
   "metadata": {},
   "outputs": [],
   "source": [
    "#HYPER PARAMETERS\n",
    "max_length = tweet_max_length\n",
    "padding_type = 'post'\n",
    "trunc_type = 'post'\n",
    "oov_tok = '<OOV>'"
   ]
  },
  {
   "cell_type": "code",
   "execution_count": 13,
   "metadata": {},
   "outputs": [],
   "source": [
    "\n",
    "tokenizer = Tokenizer()\n",
    "tokenizer.fit_on_texts(corpus)\n",
    "\n",
    "training_tweets, validation_tweets, training_targets, validation_targets = train_test_split(train_df['joined'], train_df['target'], test_size=0.2, random_state=42)\n",
    "#Sequencing and padding training data\n",
    "training_sequences = tokenizer.texts_to_sequences(training_tweets)\n",
    "training_padded = pad_sequences(training_sequences, maxlen=max_length, padding=padding_type, truncating=trunc_type)\n",
    "\n",
    "#Sequencing and padding validation data\n",
    "validation_sequences = tokenizer.texts_to_sequences(validation_tweets)\n",
    "validation_padded = pad_sequences(validation_sequences, maxlen=max_length, padding=padding_type, truncating=trunc_type)\n",
    "\n",
    "#tweet_sequences = tokenizer.texts_to_sequences(corpus)\n",
    "#tweets_padded = pad_sequences(sequences,maxlen=MAX_LEN,truncating='post',padding='post')\n",
    "\n",
    "word_index=tokenizer.word_index\n",
    "\n",
    "num_words=len(word_index)+1\n",
    "embedding_matrix=np.zeros((num_words,100))\n",
    "\n",
    "for word,i in word_index.items() :\n",
    "    if i < num_words:\n",
    "        emb_vec=embedding_dict.get(word)\n",
    "        if emb_vec is not None:\n",
    "            embedding_matrix[i]=emb_vec  \n"
   ]
  },
  {
   "cell_type": "code",
   "execution_count": 14,
   "metadata": {},
   "outputs": [
    {
     "name": "stdout",
     "output_type": "stream",
     "text": [
      "Model: \"sequential\"\n",
      "_________________________________________________________________\n",
      "Layer (type)                 Output Shape              Param #   \n",
      "=================================================================\n",
      "embedding (Embedding)        (None, 156, 100)          1272600   \n",
      "_________________________________________________________________\n",
      "spatial_dropout1d (SpatialDr (None, 156, 100)          0         \n",
      "_________________________________________________________________\n",
      "bidirectional (Bidirectional (None, 156, 128)          84480     \n",
      "_________________________________________________________________\n",
      "bidirectional_1 (Bidirection (None, 64)                41216     \n",
      "_________________________________________________________________\n",
      "dense (Dense)                (None, 64)                4160      \n",
      "_________________________________________________________________\n",
      "dense_1 (Dense)              (None, 1)                 65        \n",
      "=================================================================\n",
      "Total params: 1,402,521\n",
      "Trainable params: 129,921\n",
      "Non-trainable params: 1,272,600\n",
      "_________________________________________________________________\n",
      "Train on 6090 samples, validate on 1523 samples\n",
      "Epoch 1/10\n",
      "6090/6090 [==============================] - 665s 109ms/sample - loss: 0.5006 - accuracy: 0.7614 - val_loss: 0.4403 - val_accuracy: 0.8162\n",
      "Epoch 2/10\n",
      "6090/6090 [==============================] - 651s 107ms/sample - loss: 0.4562 - accuracy: 0.7966 - val_loss: 0.4381 - val_accuracy: 0.8162\n",
      "Epoch 3/10\n",
      "6090/6090 [==============================] - 653s 107ms/sample - loss: 0.4421 - accuracy: 0.8011 - val_loss: 0.4261 - val_accuracy: 0.8221\n",
      "Epoch 4/10\n",
      "6090/6090 [==============================] - 656s 108ms/sample - loss: 0.4191 - accuracy: 0.8159 - val_loss: 0.4406 - val_accuracy: 0.8083\n",
      "Epoch 5/10\n",
      "6090/6090 [==============================] - 659s 108ms/sample - loss: 0.4093 - accuracy: 0.8138 - val_loss: 0.4335 - val_accuracy: 0.8260\n",
      "Epoch 6/10\n",
      "6090/6090 [==============================] - 661s 109ms/sample - loss: 0.3943 - accuracy: 0.8256 - val_loss: 0.4146 - val_accuracy: 0.8299\n",
      "Epoch 7/10\n",
      "6090/6090 [==============================] - 657s 108ms/sample - loss: 0.3817 - accuracy: 0.8342 - val_loss: 0.4255 - val_accuracy: 0.8240\n",
      "Epoch 8/10\n",
      "6090/6090 [==============================] - 660s 108ms/sample - loss: 0.3659 - accuracy: 0.8427 - val_loss: 0.4301 - val_accuracy: 0.8234\n",
      "Epoch 9/10\n",
      "6090/6090 [==============================] - 663s 109ms/sample - loss: 0.3444 - accuracy: 0.8502 - val_loss: 0.4607 - val_accuracy: 0.8135\n",
      "Epoch 10/10\n",
      "6090/6090 [==============================] - 659s 108ms/sample - loss: 0.3345 - accuracy: 0.8529 - val_loss: 0.4942 - val_accuracy: 0.8056\n"
     ]
    }
   ],
   "source": [
    "#import tensorflow.contrib.eager as tfe\n",
    "#tf.enable_eager_execution()\n",
    "\n",
    "model = tf.keras.Sequential([\n",
    "    tf.keras.layers.Embedding(num_words,100,embeddings_initializer=Constant(embedding_matrix), input_length=max_length,trainable=False),\n",
    "    tf.keras.layers.SpatialDropout1D(0.2),\n",
    "    tf.keras.layers.Bidirectional(tf.keras.layers.LSTM(units = 64, dropout=0.2, recurrent_dropout = 0.2, return_sequences = True)),\n",
    "    tf.keras.layers.Bidirectional(tf.keras.layers.LSTM(units = 32)),\n",
    "    tf.keras.layers.Dense(64, activation='relu'),\n",
    "    tf.keras.layers.Dense(1, activation='sigmoid')\n",
    "])\n",
    "\n",
    "optimzer=Adam(lr=3e-4)\n",
    "\n",
    "model.compile(loss='binary_crossentropy',optimizer='adam',metrics=['accuracy'])\n",
    "\n",
    "model.summary()\n",
    "\n",
    "############################################################################\n",
    "training_tweets, validation_tweets, training_targets, validation_targets = train_test_split(train_df['joined'], train_df['target'], test_size=0.2, random_state=42)\n",
    "\n",
    "history=model.fit(training_padded,training_targets,batch_size=4,epochs=10,validation_data=(validation_padded,validation_targets),verbose=1)"
   ]
  },
  {
   "cell_type": "code",
   "execution_count": 15,
   "metadata": {},
   "outputs": [
    {
     "data": {
      "image/png": "[encoded data removed]",
      "text/plain": [
       "<Figure size 432x288 with 1 Axes>"
      ]
     },
     "metadata": {
      "needs_background": "light"
     },
     "output_type": "display_data"
    },
    {
     "data": {
      "image/png": "[encoded data removed]",
      "text/plain": [
       "<Figure size 432x288 with 1 Axes>"
      ]
     },
     "metadata": {
      "needs_background": "light"
     },
     "output_type": "display_data"
    }
   ],
   "source": [
    "import matplotlib.pyplot as plt\n",
    "\n",
    "plt.plot(history.history['accuracy'])\n",
    "plt.plot(history.history['val_accuracy'])\n",
    "plt.xlabel(\"epochs\")\n",
    "plt.ylabel(\"accuracy\")\n",
    "plt.legend(['accuracy', 'val_accuracy'])\n",
    "plt.show()\n",
    "\n",
    "plt.plot(history.history['loss'])\n",
    "plt.plot(history.history['val_loss'])\n",
    "plt.xlabel(\"epochs\")\n",
    "plt.ylabel(\"loss\")\n",
    "plt.legend(['loss', 'val_loss'])\n",
    "plt.show()"
   ]
  },
  {
   "cell_type": "code",
   "execution_count": 16,
   "metadata": {},
   "outputs": [
    {
     "data": {
      "text/html": [
       "<div>\n",
       "<style scoped>\n",
       "    .dataframe tbody tr th:only-of-type {\n",
       "        vertical-align: middle;\n",
       "    }\n",
       "\n",
       "    .dataframe tbody tr th {\n",
       "        vertical-align: top;\n",
       "    }\n",
       "\n",
       "    .dataframe thead th {\n",
       "        text-align: right;\n",
       "    }\n",
       "</style>\n",
       "<table border=\"1\" class=\"dataframe\">\n",
       "  <thead>\n",
       "    <tr style=\"text-align: right;\">\n",
       "      <th></th>\n",
       "      <th>id</th>\n",
       "      <th>target</th>\n",
       "    </tr>\n",
       "  </thead>\n",
       "  <tbody>\n",
       "    <tr>\n",
       "      <th>0</th>\n",
       "      <td>0</td>\n",
       "      <td>0</td>\n",
       "    </tr>\n",
       "    <tr>\n",
       "      <th>1</th>\n",
       "      <td>2</td>\n",
       "      <td>0</td>\n",
       "    </tr>\n",
       "    <tr>\n",
       "      <th>2</th>\n",
       "      <td>3</td>\n",
       "      <td>0</td>\n",
       "    </tr>\n",
       "    <tr>\n",
       "      <th>3</th>\n",
       "      <td>9</td>\n",
       "      <td>0</td>\n",
       "    </tr>\n",
       "    <tr>\n",
       "      <th>4</th>\n",
       "      <td>11</td>\n",
       "      <td>0</td>\n",
       "    </tr>\n",
       "  </tbody>\n",
       "</table>\n",
       "</div>"
      ],
      "text/plain": [
       "   id  target\n",
       "0   0       0\n",
       "1   2       0\n",
       "2   3       0\n",
       "3   9       0\n",
       "4  11       0"
      ]
     },
     "execution_count": 16,
     "metadata": {},
     "output_type": "execute_result"
    }
   ],
   "source": [
    "test_csv.head()\n",
    "sample_submission_csv.head()"
   ]
  },
  {
   "cell_type": "code",
   "execution_count": 17,
   "metadata": {},
   "outputs": [
    {
     "data": {
      "text/html": [
       "<div>\n",
       "<style scoped>\n",
       "    .dataframe tbody tr th:only-of-type {\n",
       "        vertical-align: middle;\n",
       "    }\n",
       "\n",
       "    .dataframe tbody tr th {\n",
       "        vertical-align: top;\n",
       "    }\n",
       "\n",
       "    .dataframe thead th {\n",
       "        text-align: right;\n",
       "    }\n",
       "</style>\n",
       "<table border=\"1\" class=\"dataframe\">\n",
       "  <thead>\n",
       "    <tr style=\"text-align: right;\">\n",
       "      <th></th>\n",
       "      <th>id</th>\n",
       "      <th>keyword</th>\n",
       "      <th>location</th>\n",
       "      <th>text</th>\n",
       "      <th>joined</th>\n",
       "    </tr>\n",
       "  </thead>\n",
       "  <tbody>\n",
       "    <tr>\n",
       "      <th>0</th>\n",
       "      <td>0</td>\n",
       "      <td></td>\n",
       "      <td>NaN</td>\n",
       "      <td>Just happened a terrible car crash</td>\n",
       "      <td>Just happened a terrible car crash</td>\n",
       "    </tr>\n",
       "    <tr>\n",
       "      <th>1</th>\n",
       "      <td>2</td>\n",
       "      <td></td>\n",
       "      <td>NaN</td>\n",
       "      <td>Heard about #earthquake is different cities, s...</td>\n",
       "      <td>Heard about #earthquake is different cities,...</td>\n",
       "    </tr>\n",
       "    <tr>\n",
       "      <th>2</th>\n",
       "      <td>3</td>\n",
       "      <td></td>\n",
       "      <td>NaN</td>\n",
       "      <td>there is a forest fire at spot pond, geese are...</td>\n",
       "      <td>there is a forest fire at spot pond, geese a...</td>\n",
       "    </tr>\n",
       "    <tr>\n",
       "      <th>3</th>\n",
       "      <td>9</td>\n",
       "      <td></td>\n",
       "      <td>NaN</td>\n",
       "      <td>Apocalypse lighting. #Spokane #wildfires</td>\n",
       "      <td>Apocalypse lighting. #Spokane #wildfires</td>\n",
       "    </tr>\n",
       "    <tr>\n",
       "      <th>4</th>\n",
       "      <td>11</td>\n",
       "      <td></td>\n",
       "      <td>NaN</td>\n",
       "      <td>Typhoon Soudelor kills 28 in China and Taiwan</td>\n",
       "      <td>Typhoon Soudelor kills 28 in China and Taiwan</td>\n",
       "    </tr>\n",
       "  </tbody>\n",
       "</table>\n",
       "</div>"
      ],
      "text/plain": [
       "   id keyword location                                               text  \\\n",
       "0   0              NaN                 Just happened a terrible car crash   \n",
       "1   2              NaN  Heard about #earthquake is different cities, s...   \n",
       "2   3              NaN  there is a forest fire at spot pond, geese are...   \n",
       "3   9              NaN           Apocalypse lighting. #Spokane #wildfires   \n",
       "4  11              NaN      Typhoon Soudelor kills 28 in China and Taiwan   \n",
       "\n",
       "                                              joined  \n",
       "0                 Just happened a terrible car crash  \n",
       "1    Heard about #earthquake is different cities,...  \n",
       "2    there is a forest fire at spot pond, geese a...  \n",
       "3           Apocalypse lighting. #Spokane #wildfires  \n",
       "4      Typhoon Soudelor kills 28 in China and Taiwan  "
      ]
     },
     "execution_count": 17,
     "metadata": {},
     "output_type": "execute_result"
    }
   ],
   "source": [
    "test_csv[\"keyword\"] = test_csv[\"keyword\"].fillna(' ')\n",
    "test_csv['joined'] = test_csv[['keyword', 'text']].apply(lambda x: ' '.join(x), axis = 1)\n",
    "test_csv.head()"
   ]
  },
  {
   "cell_type": "code",
   "execution_count": 18,
   "metadata": {},
   "outputs": [
    {
     "data": {
      "text/html": [
       "<div>\n",
       "<style scoped>\n",
       "    .dataframe tbody tr th:only-of-type {\n",
       "        vertical-align: middle;\n",
       "    }\n",
       "\n",
       "    .dataframe tbody tr th {\n",
       "        vertical-align: top;\n",
       "    }\n",
       "\n",
       "    .dataframe thead th {\n",
       "        text-align: right;\n",
       "    }\n",
       "</style>\n",
       "<table border=\"1\" class=\"dataframe\">\n",
       "  <thead>\n",
       "    <tr style=\"text-align: right;\">\n",
       "      <th></th>\n",
       "      <th>id</th>\n",
       "      <th>keyword</th>\n",
       "      <th>location</th>\n",
       "      <th>text</th>\n",
       "      <th>joined</th>\n",
       "    </tr>\n",
       "  </thead>\n",
       "  <tbody>\n",
       "    <tr>\n",
       "      <th>0</th>\n",
       "      <td>0</td>\n",
       "      <td></td>\n",
       "      <td>NaN</td>\n",
       "      <td>Just happened a terrible car crash</td>\n",
       "      <td>happened terrible car crash</td>\n",
       "    </tr>\n",
       "    <tr>\n",
       "      <th>1</th>\n",
       "      <td>2</td>\n",
       "      <td></td>\n",
       "      <td>NaN</td>\n",
       "      <td>Heard about #earthquake is different cities, s...</td>\n",
       "      <td>heard earthquake different city stay safe ever...</td>\n",
       "    </tr>\n",
       "    <tr>\n",
       "      <th>2</th>\n",
       "      <td>3</td>\n",
       "      <td></td>\n",
       "      <td>NaN</td>\n",
       "      <td>there is a forest fire at spot pond, geese are...</td>\n",
       "      <td>forest fire spot pond goose fleeing across str...</td>\n",
       "    </tr>\n",
       "    <tr>\n",
       "      <th>3</th>\n",
       "      <td>9</td>\n",
       "      <td></td>\n",
       "      <td>NaN</td>\n",
       "      <td>Apocalypse lighting. #Spokane #wildfires</td>\n",
       "      <td>apocalypse lighting spokane wildfire</td>\n",
       "    </tr>\n",
       "    <tr>\n",
       "      <th>4</th>\n",
       "      <td>11</td>\n",
       "      <td></td>\n",
       "      <td>NaN</td>\n",
       "      <td>Typhoon Soudelor kills 28 in China and Taiwan</td>\n",
       "      <td>typhoon soudelor kill china taiwan</td>\n",
       "    </tr>\n",
       "  </tbody>\n",
       "</table>\n",
       "</div>"
      ],
      "text/plain": [
       "   id keyword location                                               text  \\\n",
       "0   0              NaN                 Just happened a terrible car crash   \n",
       "1   2              NaN  Heard about #earthquake is different cities, s...   \n",
       "2   3              NaN  there is a forest fire at spot pond, geese are...   \n",
       "3   9              NaN           Apocalypse lighting. #Spokane #wildfires   \n",
       "4  11              NaN      Typhoon Soudelor kills 28 in China and Taiwan   \n",
       "\n",
       "                                              joined  \n",
       "0                        happened terrible car crash  \n",
       "1  heard earthquake different city stay safe ever...  \n",
       "2  forest fire spot pond goose fleeing across str...  \n",
       "3               apocalypse lighting spokane wildfire  \n",
       "4                 typhoon soudelor kill china taiwan  "
      ]
     },
     "execution_count": 18,
     "metadata": {},
     "output_type": "execute_result"
    }
   ],
   "source": [
    "test_csv['joined'] = test_csv['joined'].apply(lambda x : data_preprocessing(x))\n",
    "test_csv.head()"
   ]
  },
  {
   "cell_type": "code",
   "execution_count": 19,
   "metadata": {},
   "outputs": [],
   "source": [
    "test_sequences = tokenizer.texts_to_sequences(test_csv['joined'])\n",
    "test_padded = pad_sequences(test_sequences, maxlen=max_length, padding=padding_type, truncating=trunc_type)"
   ]
  },
  {
   "cell_type": "code",
   "execution_count": 20,
   "metadata": {},
   "outputs": [],
   "source": [
    "predictions = model.predict(test_padded)"
   ]
  },
  {
   "cell_type": "code",
   "execution_count": 21,
   "metadata": {},
   "outputs": [],
   "source": [
    "sample_submission_csv['target'] = (predictions > 0.5).astype(int)"
   ]
  },
  {
   "cell_type": "code",
   "execution_count": 22,
   "metadata": {},
   "outputs": [],
   "source": [
    "sample_submission_csv.to_csv(\"submission.csv\", index=False, header=True)"
   ]
  },
  {
   "cell_type": "code",
   "execution_count": 23,
   "metadata": {},
   "outputs": [
    {
     "data": {
      "text/html": [
       "<a download=\"subm.csv\" href=\"data:text/csv;base64,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\" target=\"_blank\">Download CSV file</a>"
      ],
      "text/plain": [
       "<IPython.core.display.HTML object>"
      ]
     },
     "execution_count": 23,
     "metadata": {},
     "output_type": "execute_result"
    }
   ],
   "source": [
    "#https://www.kaggle.com/rtatman/download-a-csv-file-from-a-kernel\n",
    "\n",
    "from IPython.display import HTML\n",
    "import base64\n",
    "\n",
    "def create_download_link(df, title = \"Download CSV file\", filename = \"subm.csv\"):  \n",
    "    csv = df.to_csv()\n",
    "    b64 = base64.b64encode(csv.encode())\n",
    "    payload = b64.decode()\n",
    "    html = '<a download=\"{filename}\" href=\"data:text/csv;base64,{payload}\" target=\"_blank\">{title}</a>'\n",
    "    html = html.format(payload=payload,title=title,filename=filename)\n",
    "    return HTML(html)\n",
    "\n",
    "\n",
    "\n",
    "create_download_link(sample_submission_csv)\n"
   ]
  },
  {
   "cell_type": "markdown",
   "metadata": {},
   "source": [
    "how u doing"
   ]
  },
  {
   "cell_type": "markdown",
   "metadata": {},
   "source": []
  }
 ],
 "metadata": {
  "kernelspec": {
   "display_name": "Python 3",
   "language": "python",
   "name": "python3"
  },
  "language_info": {
   "codemirror_mode": {
    "name": "ipython",
    "version": 3
   },
   "file_extension": ".py",
   "mimetype": "text/x-python",
   "name": "python",
   "nbconvert_exporter": "python",
   "pygments_lexer": "ipython3",
   "version": "3.6.6"
  }
 },
 "nbformat": 4,
 "nbformat_minor": 4
}
